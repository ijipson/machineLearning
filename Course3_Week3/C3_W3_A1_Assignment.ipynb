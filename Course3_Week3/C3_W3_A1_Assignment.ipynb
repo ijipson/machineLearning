{
 "cells": [
  {
   "attachments": {},
   "cell_type": "markdown",
   "metadata": {},
   "source": [
    "# Deep Q-Learning - Lunar Lander\n",
    "\n",
    "In this assignment, you will train an agent to land a lunar lander safely on a landing pad on the surface of the moon.\n",
    "\n",
    "\n",
    "# Outline\n",
    "- [ 1 - Import Packages <img align=\"Right\" src=\"./images/lunar_lander.gif\" width = 60% >](#1)\n",
    "- [ 2 - Hyperparameters](#2)\n",
    "- [ 3 - The Lunar Lander Environment](#3)\n",
    "  - [ 3.1 Action Space](#3.1)\n",
    "  - [ 3.2 Observation Space](#3.2)\n",
    "  - [ 3.3 Rewards](#3.3)\n",
    "  - [ 3.4 Episode Termination](#3.4)\n",
    "- [ 4 - Load the Environment](#4)\n",
    "- [ 5 - Interacting with the Gym Environment](#5)\n",
    "    - [ 5.1 Exploring the Environment's Dynamics](#5.1)\n",
    "- [ 6 - Deep Q-Learning](#6)\n",
    "  - [ 6.1 Target Network](#6.1)\n",
    "    - [ Exercise 1](#ex01)\n",
    "  - [ 6.2 Experience Replay](#6.2)\n",
    "- [ 7 - Deep Q-Learning Algorithm with Experience Replay](#7)\n",
    "  - [ Exercise 2](#ex02)\n",
    "- [ 8 - Update the Network Weights](#8)\n",
    "- [ 9 - Train the Agent](#9)\n",
    "- [ 10 - See the Trained Agent In Action](#10)\n",
    "- [ 11 - Congratulations!](#11)\n",
    "- [ 12 - References](#12)\n"
   ]
  },
  {
   "attachments": {},
   "cell_type": "markdown",
   "metadata": {},
   "source": [
    "_**NOTE:** To prevent errors from the autograder, you are not allowed to edit or delete non-graded cells in this lab. Please also refrain from adding any new cells. \n",
    "**Once you have passed this assignment** and want to experiment with any of the non-graded code, you may follow the instructions at the bottom of this notebook._"
   ]
  },
  {
   "attachments": {},
   "cell_type": "markdown",
   "metadata": {},
   "source": [
    "<a name=\"1\"></a>\n",
    "## 1 - Import Packages\n",
    "\n",
    "We'll make use of the following packages:\n",
    "- `numpy` is a package for scientific computing in python.\n",
    "- `deque` will be our data structure for our memory buffer.\n",
    "- `namedtuple` will be used to store the experience tuples.\n",
    "- The `gym` toolkit is a collection of environments that can be used to test reinforcement learning algorithms. We should note that in this notebook we are using `gym` version `0.24.0`.\n",
    "- `PIL.Image` and `pyvirtualdisplay` are needed to render the Lunar Lander environment.\n",
    "- We will use several modules from the `tensorflow.keras` framework for building deep learning models.\n",
    "- `utils` is a module that contains helper functions for this assignment. You do not need to modify the code in this file.\n",
    "\n",
    "Run the cell below to import all the necessary packages."
   ]
  },
  {
   "cell_type": "code",
   "execution_count": null,
   "metadata": {
    "deletable": false,
    "editable": false,
    "id": "KYbOPKRtfQOr"
   },
   "outputs": [],
   "source": [
    "import time\n",
    "from collections import deque, namedtuple\n",
    "\n",
    "import gym\n",
    "import numpy as np\n",
    "import PIL.Image\n",
    "import tensorflow as tf\n",
    "import utils\n",
    "\n",
    "from pyvirtualdisplay import Display\n",
    "from tensorflow.keras import Sequential\n",
    "from tensorflow.keras.layers import Dense, Input\n",
    "from tensorflow.keras.losses import MSE\n",
    "from tensorflow.keras.optimizers import Adam"
   ]
  },
  {
   "cell_type": "code",
   "execution_count": null,
   "metadata": {
    "deletable": false,
    "editable": false
   },
   "outputs": [],
   "source": [
    "# Set up a virtual display to render the Lunar Lander environment.\n",
    "Display(visible=0, size=(840, 480)).start();\n",
    "\n",
    "# Set the random seed for TensorFlow\n",
    "tf.random.set_seed(utils.SEED)"
   ]
  },
  {
   "attachments": {},
   "cell_type": "markdown",
   "metadata": {},
   "source": [
    "<a name=\"2\"></a>\n",
    "## 2 - Hyperparameters\n",
    "\n",
    "Run the cell below to set the hyperparameters."
   ]
  },
  {
   "cell_type": "code",
   "execution_count": null,
   "metadata": {
    "deletable": false,
    "editable": false
   },
   "outputs": [],
   "source": [
    "MEMORY_SIZE = 100_000     # size of memory buffer\n",
    "GAMMA = 0.995             # discount factor\n",
    "ALPHA = 1e-3              # learning rate  \n",
    "NUM_STEPS_FOR_UPDATE = 4  # perform a learning update every C time steps"
   ]
  },
  {
   "attachments": {},
   "cell_type": "markdown",
   "metadata": {},
   "source": [
    "<a name=\"3\"></a>\n",
    "## 3 - The Lunar Lander Environment\n",
    "\n",
    "In this notebook we will be using [OpenAI's Gym Library](https://www.gymlibrary.dev/). The Gym library provides a wide variety of environments for reinforcement learning. To put it simply, an environment represents a problem or task to be solved. In this notebook, we will try to solve the Lunar Lander environment using reinforcement learning.\n",
    "\n",
    "The goal of the Lunar Lander environment is to land the lunar lander safely on the landing pad on the surface of the moon. The landing pad is designated by two flag poles and its center is at coordinates `(0,0)` but the lander is also allowed to land outside of the landing pad. The lander starts at the top center of the environment with a random initial force applied to its center of mass and has infinite fuel. The environment is considered solved if you get `200` points. \n",
    "\n",
    "<br>\n",
    "<br>\n",
    "<figure>\n",
    "  <img src = \"images/lunar_lander.gif\" width = 40%>\n",
    "      <figcaption style = \"text-align: center; font-style: italic\">Fig 1. Lunar Lander Environment.</figcaption>\n",
    "</figure>\n",
    "\n",
    "\n",
    "\n",
    "<a name=\"3.1\"></a>\n",
    "### 3.1 Action Space\n",
    "\n",
    "The agent has four discrete actions available:\n",
    "\n",
    "* Do nothing.\n",
    "* Fire right engine.\n",
    "* Fire main engine.\n",
    "* Fire left engine.\n",
    "\n",
    "Each action has a corresponding numerical value:\n",
    "\n",
    "```python\n",
    "Do nothing = 0\n",
    "Fire right engine = 1\n",
    "Fire main engine = 2\n",
    "Fire left engine = 3\n",
    "```\n",
    "\n",
    "<a name=\"3.2\"></a>\n",
    "### 3.2 Observation Space\n",
    "\n",
    "The agent's observation space consists of a state vector with 8 variables:\n",
    "\n",
    "* Its $(x,y)$ coordinates. The landing pad is always at coordinates $(0,0)$.\n",
    "* Its linear velocities $(\\dot x,\\dot y)$.\n",
    "* Its angle $\\theta$.\n",
    "* Its angular velocity $\\dot \\theta$.\n",
    "* Two booleans, $l$ and $r$, that represent whether each leg is in contact with the ground or not.\n",
    "\n",
    "<a name=\"3.3\"></a>\n",
    "### 3.3 Rewards\n",
    "\n",
    "After every step, a reward is granted. The total reward of an episode is the sum of the rewards for all the steps within that episode.\n",
    "\n",
    "For each step, the reward:\n",
    "- is increased/decreased the closer/further the lander is to the landing pad.\n",
    "- is increased/decreased the slower/faster the lander is moving.\n",
    "- is decreased the more the lander is tilted (angle not horizontal).\n",
    "- is increased by 10 points for each leg that is in contact with the ground.\n",
    "- is decreased by 0.03 points each frame a side engine is firing.\n",
    "- is decreased by 0.3 points each frame the main engine is firing.\n",
    "\n",
    "The episode receives an additional reward of -100 or +100 points for crashing or landing safely respectively.\n",
    "\n",
    "<a name=\"3.4\"></a>\n",
    "### 3.4 Episode Termination\n",
    "\n",
    "An episode ends (i.e the environment enters a terminal state) if:\n",
    "\n",
    "* The lunar lander crashes (i.e if the body of the lunar lander comes in contact with the surface of the moon).\n",
    "\n",
    "* The absolute value of the lander's $x$-coordinate is greater than 1 (i.e. it goes beyond the left or right border)\n",
    "\n",
    "You can check out the [Open AI Gym documentation](https://www.gymlibrary.dev/environments/box2d/lunar_lander/) for a full description of the environment. "
   ]
  },
  {
   "attachments": {},
   "cell_type": "markdown",
   "metadata": {},
   "source": [
    "<a name=\"4\"></a>\n",
    "## 4 - Load the Environment\n",
    "\n",
    "We start by loading the `LunarLander-v2` environment from the `gym` library by using the `.make()` method. `LunarLander-v2` is the latest version of the Lunar Lander environment and you can read about its version history in the [Open AI Gym documentation](https://www.gymlibrary.dev/environments/box2d/lunar_lander/#version-history)."
   ]
  },
  {
   "cell_type": "code",
   "execution_count": null,
   "metadata": {
    "deletable": false,
    "editable": false,
    "id": "ILVMYKewfR0n"
   },
   "outputs": [],
   "source": [
    "env = gym.make('LunarLander-v2')"
   ]
  },
  {
   "attachments": {},
   "cell_type": "markdown",
   "metadata": {},
   "source": [
    "Once we load the environment we use the `.reset()` method to reset the environment to the initial state. The lander starts at the top center of the environment and we can render the first frame of the environment by using the `.render()` method."
   ]
  },
  {
   "cell_type": "code",
   "execution_count": null,
   "metadata": {
    "deletable": false,
    "editable": false
   },
   "outputs": [],
   "source": [
    "env.reset()\n",
    "PIL.Image.fromarray(env.render(mode='rgb_array'))"
   ]
  },
  {
   "attachments": {},
   "cell_type": "markdown",
   "metadata": {},
   "source": [
    "In order to build our neural network later on we need to know the size of the state vector and the number of valid actions. We can get this information from our environment by using the `.observation_space.shape` and `action_space.n` methods, respectively."
   ]
  },
  {
   "cell_type": "code",
   "execution_count": null,
   "metadata": {
    "deletable": false,
    "editable": false,
    "id": "x3fdqdG4CUu2"
   },
   "outputs": [],
   "source": [
    "state_size = env.observation_space.shape\n",
    "num_actions = env.action_space.n\n",
    "\n",
    "print('State Shape:', state_size)\n",
    "print('Number of actions:', num_actions)"
   ]
  },
  {
   "attachments": {},
   "cell_type": "markdown",
   "metadata": {},
   "source": [
    "<a name=\"5\"></a>\n",
    "## 5 - Interacting with the Gym Environment\n",
    "\n",
    "The Gym library implements the standard “agent-environment loop” formalism:\n",
    "\n",
    "<br>\n",
    "<center>\n",
    "<video src = \"./videos/rl_formalism.m4v\" width=\"840\" height=\"480\" controls autoplay loop poster=\"./images/rl_formalism.png\"> </video>\n",
    "<figcaption style = \"text-align:center; font-style:italic\">Fig 2. Agent-environment Loop Formalism.</figcaption>\n",
    "</center>\n",
    "<br>\n",
    "\n",
    "In the standard “agent-environment loop” formalism, an agent interacts with the environment in discrete time steps $t=0,1,2,...$. At each time step $t$, the agent uses a policy $\\pi$ to select an action $A_t$ based on its observation of the environment's state $S_t$. The agent receives a numerical reward $R_t$ and on the next time step, moves to a new state $S_{t+1}$.\n",
    "\n",
    "<a name=\"5.1\"></a>\n",
    "### 5.1 Exploring the Environment's Dynamics\n",
    "\n",
    "In Open AI's Gym environments, we use the `.step()` method to run a single time step of the environment's dynamics. In the version of `gym` that we are using the `.step()` method accepts an action and returns four values:\n",
    "\n",
    "* `observation` (**object**): an environment-specific object representing your observation of the environment. In the Lunar Lander environment this corresponds to a numpy array containing the positions and velocities of the lander as described in section [3.2 Observation Space](#3.2).\n",
    "\n",
    "\n",
    "* `reward` (**float**): amount of reward returned as a result of taking the given action. In the Lunar Lander environment this corresponds to a float of type `numpy.float64` as described in section [3.3 Rewards](#3.3).\n",
    "\n",
    "\n",
    "* `done` (**boolean**): When done is `True`, it indicates the episode has terminated and it’s time to reset the environment. \n",
    "\n",
    "\n",
    "* `info` (**dictionary**): diagnostic information useful for debugging. We won't be using this variable in this notebook but it is shown here for completeness.\n",
    "\n",
    "To begin an episode, we need to reset the environment to an initial state. We do this by using the `.reset()` method. "
   ]
  },
  {
   "cell_type": "code",
   "execution_count": null,
   "metadata": {
    "deletable": false,
    "editable": false
   },
   "outputs": [],
   "source": [
    "# Reset the environment and get the initial state.\n",
    "current_state = env.reset()"
   ]
  },
  {
   "attachments": {},
   "cell_type": "markdown",
   "metadata": {},
   "source": [
    "Once the environment is reset, the agent can start taking actions in the environment by using the `.step()` method. Note that the agent can only take one action per time step. \n",
    "\n",
    "In the cell below you can select different actions and see how the returned values change depending on the action taken. Remember that in this environment the agent has four discrete actions available and we specify them in code by using their corresponding numerical value:\n",
    "\n",
    "```python\n",
    "Do nothing = 0\n",
    "Fire right engine = 1\n",
    "Fire main engine = 2\n",
    "Fire left engine = 3\n",
    "```"
   ]
  },
  {
   "cell_type": "code",
   "execution_count": null,
   "metadata": {
    "deletable": false
   },
   "outputs": [],
   "source": [
    "# Select an action\n",
    "action = 0\n",
    "\n",
    "# Run a single time step of the environment's dynamics with the given action.\n",
    "next_state, reward, done, _ = env.step(action)\n",
    "\n",
    "# Display table with values.\n",
    "utils.display_table(current_state, action, next_state, reward, done)\n",
    "\n",
    "# Replace the `current_state` with the state after the action is taken\n",
    "current_state = next_state"
   ]
  },
  {
   "attachments": {},
   "cell_type": "markdown",
   "metadata": {},
   "source": [
    "In practice, when we train the agent we use a loop to allow the agent to take many consecutive actions during an episode."
   ]
  },
  {
   "attachments": {},
   "cell_type": "markdown",
   "metadata": {},
   "source": [
    "<a name=\"6\"></a>\n",
    "## 6 - Deep Q-Learning\n",
    "\n",
    "In cases where both the state and action space are discrete we can estimate the action-value function iteratively by using the Bellman equation:\n",
    "\n",
    "$$\n",
    "Q_{i+1}(s,a) = R + \\gamma \\max_{a'}Q_i(s',a')\n",
    "$$\n",
    "\n",
    "This iterative method converges to the optimal action-value function $Q^*(s,a)$ as $i\\to\\infty$. This means that the agent just needs to gradually explore the state-action space and keep updating the estimate of $Q(s,a)$ until it converges to the optimal action-value function $Q^*(s,a)$. However, in cases where the state space is continuous it becomes practically impossible to explore the entire state-action space. Consequently, this also makes it practically impossible to gradually estimate $Q(s,a)$ until it converges to $Q^*(s,a)$.\n",
    "\n",
    "In the Deep $Q$-Learning, we solve this problem by using a neural network to estimate the action-value function $Q(s,a)\\approx Q^*(s,a)$. We call this neural network a $Q$-Network and it can be trained by adjusting its weights at each iteration to minimize the mean-squared error in the Bellman equation.\n",
    "\n",
    "Unfortunately, using neural networks in reinforcement learning to estimate action-value functions has proven to be highly unstable. Luckily, there's a couple of techniques that can be employed to avoid instabilities. These techniques consist of using a ***Target Network*** and ***Experience Replay***. We will explore these two techniques in the following sections."
   ]
  },
  {
   "attachments": {},
   "cell_type": "markdown",
   "metadata": {},
   "source": [
    "<a name=\"6.1\"></a>\n",
    "### 6.1 Target Network\n",
    "\n",
    "We can train the $Q$-Network by adjusting it's weights at each iteration to minimize the mean-squared error in the Bellman equation, where the target values are given by:\n",
    "\n",
    "$$\n",
    "y = R + \\gamma \\max_{a'}Q(s',a';w)\n",
    "$$\n",
    "\n",
    "where $w$ are the weights of the $Q$-Network. This means that we are adjusting the weights $w$ at each iteration to minimize the following error:\n",
    "\n",
    "$$\n",
    "\\overbrace{\\underbrace{R + \\gamma \\max_{a'}Q(s',a'; w)}_{\\rm {y~target}} - Q(s,a;w)}^{\\rm {Error}}\n",
    "$$\n",
    "\n",
    "Notice that this forms a problem because the $y$ target is changing on every iteration. Having a constantly moving target can lead to oscillations and instabilities. To avoid this, we can create\n",
    "a separate neural network for generating the $y$ targets. We call this separate neural network the **target $\\hat Q$-Network** and it will have the same architecture as the original $Q$-Network. By using the target $\\hat Q$-Network, the above error becomes:\n",
    "\n",
    "$$\n",
    "\\overbrace{\\underbrace{R + \\gamma \\max_{a'}\\hat{Q}(s',a'; w^-)}_{\\rm {y~target}} - Q(s,a;w)}^{\\rm {Error}}\n",
    "$$\n",
    "\n",
    "where $w^-$ and $w$ are the weights of the target $\\hat Q$-Network and $Q$-Network, respectively.\n",
    "\n",
    "In practice, we will use the following algorithm: every $C$ time steps we will use the $\\hat Q$-Network to generate the $y$ targets and update the weights of the target $\\hat Q$-Network using the weights of the $Q$-Network. We will update the weights $w^-$ of the the target $\\hat Q$-Network using a **soft update**. This means that we will update the weights $w^-$ using the following rule:\n",
    " \n",
    "$$\n",
    "w^-\\leftarrow \\tau w + (1 - \\tau) w^-\n",
    "$$\n",
    "\n",
    "where $\\tau\\ll 1$. By using the soft update, we are ensuring that the target values, $y$, change slowly, which greatly improves the stability of our learning algorithm."
   ]
  },
  {
   "attachments": {},
   "cell_type": "markdown",
   "metadata": {},
   "source": [
    "<a name=\"ex01\"></a>\n",
    "### Exercise 1\n",
    "\n",
    "In this exercise you will create the $Q$ and target $\\hat Q$ networks and set the optimizer. Remember that the Deep $Q$-Network (DQN) is a neural network that approximates the action-value function $Q(s,a)\\approx Q^*(s,a)$. It does this by learning how to map states to $Q$ values.\n",
    "\n",
    "To solve the Lunar Lander environment, we are going to employ a DQN with the following architecture:\n",
    "\n",
    "* An `Input` layer that takes `state_size` as input.\n",
    "\n",
    "* A `Dense` layer with `64` units and a `relu` activation function.\n",
    "\n",
    "* A `Dense` layer with `64` units and a `relu` activation function.\n",
    "\n",
    "* A `Dense` layer with `num_actions` units and a `linear` activation function. This will be the output layer of our network.\n",
    "\n",
    "\n",
    "In the cell below you should create the $Q$-Network and the target $\\hat Q$-Network using the model architecture described above. Remember that both the $Q$-Network and the target $\\hat Q$-Network have the same architecture.\n",
    "\n",
    "Lastly, you should set `Adam` as the optimizer with a learning rate equal to `ALPHA`. Recall that `ALPHA` was defined in the [Hyperparameters](#2) section. We should note that for this exercise you should use the already imported packages:\n",
    "```python\n",
    "from tensorflow.keras.layers import Dense, Input\n",
    "from tensorflow.keras.optimizers import Adam\n",
    "```"
   ]
  },
  {
   "cell_type": "code",
   "execution_count": null,
   "metadata": {
    "deletable": false
   },
   "outputs": [],
   "source": [
    "# UNQ_C1\n",
    "# GRADED CELL\n",
    "\n",
    "# Create the Q-Network\n",
    "q_network = Sequential([\n",
    "    ### START CODE HERE ### \n",
    "    Input(shape=state_size),                      \n",
    "    Dense(units=64, activation='relu'),            \n",
    "    Dense(units=64, activation='relu'),            \n",
    "    Dense(units=num_actions, activation='linear'),\n",
    "\n",
    "    \n",
    "    \n",
    "    \n",
    "    ### END CODE HERE ### \n",
    "    ])\n",
    "\n",
    "# Create the target Q^-Network\n",
    "target_q_network = Sequential([\n",
    "    ### START CODE HERE ### \n",
    "    \n",
    "    Input(shape=state_size),                       \n",
    "    Dense(units=64, activation='relu'),            \n",
    "    Dense(units=64, activation='relu'),            \n",
    "    Dense(units=num_actions, activation='linear'), \n",
    "    \n",
    "    \n",
    "    ### END CODE HERE ###\n",
    "    ])\n",
    "\n",
    "### START CODE HERE ### \n",
    "optimizer = Adam(learning_rate=ALPHA)   \n",
    "### END CODE HERE ###"
   ]
  },
  {
   "cell_type": "code",
   "execution_count": null,
   "metadata": {
    "deletable": false,
    "editable": false
   },
   "outputs": [],
   "source": [
    "# UNIT TEST\n",
    "from public_tests import *\n",
    "\n",
    "test_network(q_network)\n",
    "test_network(target_q_network)\n",
    "test_optimizer(optimizer, ALPHA) "
   ]
  },
  {
   "attachments": {},
   "cell_type": "markdown",
   "metadata": {},
   "source": [
    "<a name=\"6.2\"></a>\n",
    "### 6.2 Experience Replay\n",
    "\n",
    "When an agent interacts with the environment, the states, actions, and rewards the agent experiences are sequential by nature. If the agent tries to learn from these consecutive experiences it can run into problems due to the strong correlations between them. To avoid this, we employ a technique known as **Experience Replay** to generate uncorrelated experiences for training our agent. Experience replay consists of storing the agent's experiences (i.e the states, actions, and rewards the agent receives) in a memory buffer and then sampling a random mini-batch of experiences from the buffer to do the learning. The experience tuples $(S_t, A_t, R_t, S_{t+1})$ will be added to the memory buffer at each time step as the agent interacts with the environment.\n",
    "\n",
    "For convenience, we will store the experiences as named tuples."
   ]
  },
  {
   "cell_type": "code",
   "execution_count": null,
   "metadata": {
    "deletable": false,
    "editable": false
   },
   "outputs": [],
   "source": [
    "# Store experiences as named tuples\n",
    "experience = namedtuple(\"Experience\", field_names=[\"state\", \"action\", \"reward\", \"next_state\", \"done\"])"
   ]
  },
  {
   "attachments": {},
   "cell_type": "markdown",
   "metadata": {},
   "source": [
    "By using experience replay we avoid problematic correlations, oscillations and instabilities. In addition, experience replay also allows the agent to potentially use the same experience in multiple weight updates, which increases data efficiency."
   ]
  },
  {
   "attachments": {},
   "cell_type": "markdown",
   "metadata": {},
   "source": [
    "<a name=\"7\"></a>\n",
    "## 7 - Deep Q-Learning Algorithm with Experience Replay\n",
    "\n",
    "Now that we know all the techniques that we are going to use, we can put them together to arrive at the Deep Q-Learning Algorithm With Experience Replay.\n",
    "<br>\n",
    "<br>\n",
    "<figure>\n",
    "  <img src = \"images/deep_q_algorithm.png\" width = 90% style = \"border: thin silver solid; padding: 0px\">\n",
    "      <figcaption style = \"text-align: center; font-style: italic\">Fig 3. Deep Q-Learning with Experience Replay.</figcaption>\n",
    "</figure>"
   ]
  },
  {
   "attachments": {},
   "cell_type": "markdown",
   "metadata": {},
   "source": [
    "<a name=\"ex02\"></a>\n",
    "### Exercise 2\n",
    "\n",
    "In this exercise you will implement line ***12*** of the algorithm outlined in *Fig 3* above and you will also compute the loss between the $y$ targets and the $Q(s,a)$ values. In the cell below, complete the `compute_loss` function by setting the $y$ targets equal to:\n",
    "\n",
    "$$\n",
    "\\begin{equation}\n",
    "    y_j =\n",
    "    \\begin{cases}\n",
    "      R_j & \\text{if episode terminates at step  } j+1\\\\\n",
    "      R_j + \\gamma \\max_{a'}\\hat{Q}(s_{j+1},a') & \\text{otherwise}\\\\\n",
    "    \\end{cases}       \n",
    "\\end{equation}\n",
    "$$\n",
    "\n",
    "Here are a couple of things to note:\n",
    "\n",
    "* The `compute_loss` function takes in a mini-batch of experience tuples. This mini-batch of experience tuples is unpacked to extract the `states`, `actions`, `rewards`, `next_states`, and `done_vals`. You should keep in mind that these variables are *TensorFlow Tensors* whose size will depend on the mini-batch size. For example, if the mini-batch size is `64` then both `rewards` and `done_vals` will be TensorFlow Tensors with `64` elements.\n",
    "\n",
    "\n",
    "* Using `if/else` statements to set the $y$ targets will not work when the variables are tensors with many elements. However, notice that you can use the `done_vals` to implement the above in a single line of code. To do this, recall that the `done` variable is a Boolean variable that takes the value `True` when an episode terminates at step $j+1$ and it is `False` otherwise. Taking into account that a Boolean value of `True` has the numerical value of `1` and a Boolean value of `False` has the numerical value of `0`, you can use the factor `(1 - done_vals)` to implement the above in a single line of code. Here's a hint: notice that `(1 - done_vals)` has a value of `0` when `done_vals` is `True` and a value of `1` when `done_vals` is `False`. \n",
    "\n",
    "Lastly, compute the loss by calculating the Mean-Squared Error (`MSE`) between the `y_targets` and the `q_values`. To calculate the mean-squared error you should use the already imported package `MSE`:\n",
    "```python\n",
    "from tensorflow.keras.losses import MSE\n",
    "```"
   ]
  },
  {
   "cell_type": "code",
   "execution_count": null,
   "metadata": {
    "deletable": false
   },
   "outputs": [],
   "source": [
    "# UNQ_C2\n",
    "# GRADED FUNCTION: calculate_loss\n",
    "\n",
    "def compute_loss(experiences, gamma, q_network, target_q_network):\n",
    "    \"\"\" \n",
    "    Calculates the loss.\n",
    "    \n",
    "    Args:\n",
    "      experiences: (tuple) tuple of [\"state\", \"action\", \"reward\", \"next_state\", \"done\"] namedtuples\n",
    "      gamma: (float) The discount factor.\n",
    "      q_network: (tf.keras.Sequential) Keras model for predicting the q_values\n",
    "      target_q_network: (tf.keras.Sequential) Keras model for predicting the targets\n",
    "          \n",
    "    Returns:\n",
    "      loss: (TensorFlow Tensor(shape=(0,), dtype=int32)) the Mean-Squared Error between\n",
    "            the y targets and the Q(s,a) values.\n",
    "    \"\"\"\n",
    "\n",
    "    # Unpack the mini-batch of experience tuples\n",
    "    states, actions, rewards, next_states, done_vals = experiences\n",
    "    \n",
    "    # Compute max Q^(s,a)\n",
    "    max_qsa = tf.reduce_max(target_q_network(next_states), axis=-1)\n",
    "    \n",
    "    # Set y = R if episode terminates, otherwise set y = R + γ max Q^(s,a).\n",
    "    ### START CODE HERE ### \n",
    "    y_targets = rewards + (gamma * max_qsa * (1 - done_vals))\n",
    "\n",
    "    ### END CODE HERE ###\n",
    "    \n",
    "    # Get the q_values and reshape to match y_targets\n",
    "    q_values = q_network(states)\n",
    "    q_values = tf.gather_nd(q_values, tf.stack([tf.range(q_values.shape[0]),\n",
    "                                                tf.cast(actions, tf.int32)], axis=1))\n",
    "        \n",
    "    # Compute the loss\n",
    "    ### START CODE HERE ### \n",
    "    loss = MSE(y_targets, q_values) \n",
    "    ### END CODE HERE ### \n",
    "    \n",
    "    return loss"
   ]
  },
  {
   "cell_type": "code",
   "execution_count": null,
   "metadata": {
    "deletable": false,
    "editable": false
   },
   "outputs": [],
   "source": [
    "# UNIT TEST    \n",
    "test_compute_loss(compute_loss)"
   ]
  },
  {
   "attachments": {},
   "cell_type": "markdown",
   "metadata": {},
   "source": [
    "<a name=\"8\"></a>\n",
    "## 8 - Update the Network Weights\n",
    "\n",
    "We will use the `agent_learn` function below to implement lines ***12 -14*** of the algorithm outlined in [Fig 3](#7). The `agent_learn` function will update the weights of the $Q$ and target $\\hat Q$ networks using a custom training loop. Because we are using a custom training loop we need to retrieve the gradients via a `tf.GradientTape` instance, and then call `optimizer.apply_gradients()` to update the weights of our $Q$-Network. Note that we are also using the `@tf.function` decorator to increase performance. Without this decorator our training will take twice as long. If you would like to know more about how to increase performance with `@tf.function` take a look at the [TensorFlow documentation](https://www.tensorflow.org/guide/function).\n",
    "\n",
    "The last line of this function updates the weights of the target $\\hat Q$-Network using a [soft update](#6.1). If you want to know how this is implemented in code we encourage you to take a look at the `utils.update_target_network` function in the `utils` module."
   ]
  },
  {
   "cell_type": "code",
   "execution_count": null,
   "metadata": {
    "deletable": false,
    "editable": false
   },
   "outputs": [],
   "source": [
    "@tf.function\n",
    "def agent_learn(experiences, gamma):\n",
    "    \"\"\"\n",
    "    Updates the weights of the Q networks.\n",
    "    \n",
    "    Args:\n",
    "      experiences: (tuple) tuple of [\"state\", \"action\", \"reward\", \"next_state\", \"done\"] namedtuples\n",
    "      gamma: (float) The discount factor.\n",
    "    \n",
    "    \"\"\"\n",
    "    \n",
    "    # Calculate the loss\n",
    "    with tf.GradientTape() as tape:\n",
    "        loss = compute_loss(experiences, gamma, q_network, target_q_network)\n",
    "\n",
    "    # Get the gradients of the loss with respect to the weights.\n",
    "    gradients = tape.gradient(loss, q_network.trainable_variables)\n",
    "    \n",
    "    # Update the weights of the q_network.\n",
    "    optimizer.apply_gradients(zip(gradients, q_network.trainable_variables))\n",
    "\n",
    "    # update the weights of target q_network\n",
    "    utils.update_target_network(q_network, target_q_network)"
   ]
  },
  {
   "attachments": {},
   "cell_type": "markdown",
   "metadata": {},
   "source": [
    "<a name=\"9\"></a>\n",
    "## 9 - Train the Agent\n",
    "\n",
    "We are now ready to train our agent to solve the Lunar Lander environment. In the cell below we will implement the algorithm in [Fig 3](#7) line by line (please note that we have included the same algorithm below for easy reference. This will prevent you from scrolling up and down the notebook):\n",
    "\n",
    "* **Line 1**: We initialize the `memory_buffer` with a capacity of $N =$ `MEMORY_SIZE`. Notice that we are using a `deque` as the data structure for our `memory_buffer`.\n",
    "\n",
    "\n",
    "* **Line 2**: We skip this line since we already initialized the `q_network` in [Exercise 1](#ex01).\n",
    "\n",
    "\n",
    "* **Line 3**: We initialize the `target_q_network` by setting its weights to be equal to those of the `q_network`.\n",
    "\n",
    "\n",
    "* **Line 4**: We start the outer loop. Notice that we have set $M =$ `num_episodes = 2000`. This number is reasonable because the agent should be able to solve the Lunar Lander environment in less than `2000` episodes using this notebook's default parameters.\n",
    "\n",
    "\n",
    "* **Line 5**: We use the `.reset()` method to reset the environment to the initial state and get the initial state.\n",
    "\n",
    "\n",
    "* **Line 6**: We start the inner loop. Notice that we have set $T =$ `max_num_timesteps = 1000`. This means that the episode will automatically terminate if the episode hasn't terminated after `1000` time steps.\n",
    "\n",
    "\n",
    "* **Line 7**: The agent observes the current `state` and chooses an `action` using an $\\epsilon$-greedy policy. Our agent starts out using a value of $\\epsilon =$ `epsilon = 1` which yields an $\\epsilon$-greedy policy that is equivalent to the equiprobable random policy. This means that at the beginning of our training, the agent is just going to take random actions regardless of the observed `state`. As training progresses we will decrease the value of $\\epsilon$ slowly towards a minimum value using a given $\\epsilon$-decay rate. We want this minimum value to be close to zero because a value of $\\epsilon = 0$ will yield an $\\epsilon$-greedy policy that is equivalent to the greedy policy. This means that towards the end of training, the agent will lean towards selecting the `action` that it believes (based on its past experiences) will maximize $Q(s,a)$. We will set the minimum $\\epsilon$ value to be `0.01` and not exactly 0 because we always want to keep a little bit of exploration during training. If you want to know how this is implemented in code we encourage you to take a look at the `utils.get_action` function in the `utils` module.\n",
    "\n",
    "\n",
    "* **Line 8**: We use the `.step()` method to take the given `action` in the environment and get the `reward` and the `next_state`. \n",
    "\n",
    "\n",
    "* **Line 9**: We store the `experience(state, action, reward, next_state, done)` tuple in our `memory_buffer`. Notice that we also store the `done` variable so that we can keep track of when an episode terminates. This allowed us to set the $y$ targets in [Exercise 2](#ex02).\n",
    "\n",
    "\n",
    "* **Line 10**: We check if the conditions are met to perform a learning update. We do this by using our custom `utils.check_update_conditions` function. This function checks if $C =$ `NUM_STEPS_FOR_UPDATE = 4` time steps have occured and if our `memory_buffer` has enough experience tuples to fill a mini-batch. For example, if the mini-batch size is `64`, then our `memory_buffer` should have more than `64` experience tuples in order to pass the latter condition. If the conditions are met, then the `utils.check_update_conditions` function will return a value of `True`, otherwise it will return a value of `False`.\n",
    "\n",
    "\n",
    "* **Lines 11 - 14**: If the `update` variable is `True` then we perform a learning update. The learning update consists of sampling a random mini-batch of experience tuples from our `memory_buffer`, setting the $y$ targets, performing gradient descent, and updating the weights of the networks. We will use the `agent_learn` function we defined in [Section 8](#8) to perform the latter 3.\n",
    "\n",
    "\n",
    "* **Line 15**: At the end of each iteration of the inner loop we set `next_state` as our new `state` so that the loop can start again from this new state. In addition, we check if the episode has reached a terminal state (i.e we check if `done = True`). If a terminal state has been reached, then we break out of the inner loop.\n",
    "\n",
    "\n",
    "* **Line 16**: At the end of each iteration of the outer loop we update the value of $\\epsilon$, and check if the environment has been solved. We consider that the environment has been solved if the agent receives an average of `200` points in the last `100` episodes. If the environment has not been solved we continue the outer loop and start a new episode.\n",
    "\n",
    "Finally, we wanted to note that we have included some extra variables to keep track of the total number of points the agent received in each episode. This will help us determine if the agent has solved the environment and it will also allow us to see how our agent performed during training. We also use the `time` module to measure how long the training takes. \n",
    "\n",
    "<br>\n",
    "<br>\n",
    "<figure>\n",
    "  <img src = \"images/deep_q_algorithm.png\" width = 90% style = \"border: thin silver solid; padding: 0px\">\n",
    "      <figcaption style = \"text-align: center; font-style: italic\">Fig 4. Deep Q-Learning with Experience Replay.</figcaption>\n",
    "</figure>\n",
    "<br>\n",
    "\n",
    "**Note:** With this notebook's default parameters, the following cell takes between 10 to 15 minutes to run. "
   ]
  },
  {
   "cell_type": "code",
   "execution_count": 16,
   "metadata": {
    "deletable": false,
    "editable": false
   },
   "outputs": [
    {
     "name": "stdout",
     "output_type": "stream",
     "text": [
      "Episode 100 | Total point average of the last 100 episodes: -121.19\n",
      "Episode 200 | Total point average of the last 100 episodes: -86.491\n",
      "Episode 300 | Total point average of the last 100 episodes: -51.67\n",
      "Episode 400 | Total point average of the last 100 episodes: 26.168\n",
      "Episode 500 | Total point average of the last 100 episodes: 198.01\n",
      "Episode 509 | Total point average of the last 100 episodes: 200.74\n",
      "\n",
      "Environment solved in 509 episodes!\n",
      "\n",
      "Total Runtime: 653.39 s (10.89 min)\n"
     ]
    }
   ],
   "source": [
    "start = time.time()\n",
    "\n",
    "num_episodes = 2000\n",
    "max_num_timesteps = 1000\n",
    "\n",
    "total_point_history = []\n",
    "\n",
    "num_p_av = 100    # number of total points to use for averaging\n",
    "epsilon = 1.0     # initial ε value for ε-greedy policy\n",
    "\n",
    "# Create a memory buffer D with capacity N\n",
    "memory_buffer = deque(maxlen=MEMORY_SIZE)\n",
    "\n",
    "# Set the target network weights equal to the Q-Network weights\n",
    "target_q_network.set_weights(q_network.get_weights())\n",
    "\n",
    "for i in range(num_episodes):\n",
    "    \n",
    "    # Reset the environment to the initial state and get the initial state\n",
    "    state = env.reset()\n",
    "    total_points = 0\n",
    "    \n",
    "    for t in range(max_num_timesteps):\n",
    "        \n",
    "        # From the current state S choose an action A using an ε-greedy policy\n",
    "        state_qn = np.expand_dims(state, axis=0)  # state needs to be the right shape for the q_network\n",
    "        q_values = q_network(state_qn)\n",
    "        action = utils.get_action(q_values, epsilon)\n",
    "        \n",
    "        # Take action A and receive reward R and the next state S'\n",
    "        next_state, reward, done, _ = env.step(action)\n",
    "        \n",
    "        # Store experience tuple (S,A,R,S') in the memory buffer.\n",
    "        # We store the done variable as well for convenience.\n",
    "        memory_buffer.append(experience(state, action, reward, next_state, done))\n",
    "        \n",
    "        # Only update the network every NUM_STEPS_FOR_UPDATE time steps.\n",
    "        update = utils.check_update_conditions(t, NUM_STEPS_FOR_UPDATE, memory_buffer)\n",
    "        \n",
    "        if update:\n",
    "            # Sample random mini-batch of experience tuples (S,A,R,S') from D\n",
    "            experiences = utils.get_experiences(memory_buffer)\n",
    "            \n",
    "            # Set the y targets, perform a gradient descent step,\n",
    "            # and update the network weights.\n",
    "            agent_learn(experiences, GAMMA)\n",
    "        \n",
    "        state = next_state.copy()\n",
    "        total_points += reward\n",
    "        \n",
    "        if done:\n",
    "            break\n",
    "            \n",
    "    total_point_history.append(total_points)\n",
    "    av_latest_points = np.mean(total_point_history[-num_p_av:])\n",
    "    \n",
    "    # Update the ε value\n",
    "    epsilon = utils.get_new_eps(epsilon)\n",
    "\n",
    "    print(f\"\\rEpisode {i+1} | Total point average of the last {num_p_av} episodes: {av_latest_points:.2f}\", end=\"\")\n",
    "\n",
    "    if (i+1) % num_p_av == 0:\n",
    "        print(f\"\\rEpisode {i+1} | Total point average of the last {num_p_av} episodes: {av_latest_points:.2f}\")\n",
    "\n",
    "    # We will consider that the environment is solved if we get an\n",
    "    # average of 200 points in the last 100 episodes.\n",
    "    if av_latest_points >= 200.0:\n",
    "        print(f\"\\n\\nEnvironment solved in {i+1} episodes!\")\n",
    "        q_network.save('lunar_lander_model.h5')\n",
    "        break\n",
    "        \n",
    "tot_time = time.time() - start\n",
    "\n",
    "print(f\"\\nTotal Runtime: {tot_time:.2f} s ({(tot_time/60):.2f} min)\")"
   ]
  },
  {
   "attachments": {},
   "cell_type": "markdown",
   "metadata": {},
   "source": [
    "We can plot the total point history along with the moving average to see how our agent improved during training. If you want to know about the different plotting options available in the `utils.plot_history` function we encourage you to take a look at the `utils` module."
   ]
  },
  {
   "cell_type": "code",
   "execution_count": 17,
   "metadata": {
    "deletable": false,
    "editable": false,
    "id": "E_EUXxurfe8m",
    "scrolled": false
   },
   "outputs": [
    {
     "data": {
      "image/png": "[encoded data removed]",
      "text/plain": [
       "<Figure size 720x504 with 1 Axes>"
      ]
     },
     "metadata": {},
     "output_type": "display_data"
    }
   ],
   "source": [
    "# Plot the total point history along with the moving average\n",
    "utils.plot_history(total_point_history)"
   ]
  },
  {
   "attachments": {},
   "cell_type": "markdown",
   "metadata": {
    "id": "c_xwgaX5MnYt"
   },
   "source": [
    "<a name=\"10\"></a>\n",
    "## 10 - See the Trained Agent In Action\n",
    "\n",
    "Now that we have trained our agent, we can see it in action. We will use the `utils.create_video` function to create a video of our agent interacting with the environment using the trained $Q$-Network. The `utils.create_video` function uses the `imageio` library to create the video. This library produces some warnings that can be distracting, so, to suppress these warnings we run the code below."
   ]
  },
  {
   "cell_type": "code",
   "execution_count": 18,
   "metadata": {
    "deletable": false,
    "editable": false
   },
   "outputs": [],
   "source": [
    "# Suppress warnings from imageio\n",
    "import logging\n",
    "logging.getLogger().setLevel(logging.ERROR)"
   ]
  },
  {
   "attachments": {},
   "cell_type": "markdown",
   "metadata": {},
   "source": [
    "In the cell below we create a video of our agent interacting with the Lunar Lander environment using the trained `q_network`. The video is saved to the `videos` folder with the given `filename`. We use the `utils.embed_mp4` function to embed the video in the Jupyter Notebook so that we can see it here directly without having to download it.\n",
    "\n",
    "We should note that since the lunar lander starts with a random initial force applied to its center of mass, every time you run the cell below you will see a different video. If the agent was trained properly, it should be able to land the lunar lander in the landing pad every time, regardless of the initial force applied to its center of mass."
   ]
  },
  {
   "cell_type": "code",
   "execution_count": 21,
   "metadata": {
    "deletable": false,
    "editable": false,
    "id": "3Ttb_zLeJKiG"
   },
   "outputs": [
    {
     "data": {
      "text/html": [
       "\n",
       "    <video width=\"840\" height=\"480\" controls>\n",
       "    <source src=\"data:video/mp4;base64,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\" type=\"video/mp4\">\n",
       "    Your browser does not support the video tag.\n",
       "    </video>"
      ],
      "text/plain": [
       "<IPython.core.display.HTML object>"
      ]
     },
     "execution_count": 21,
     "metadata": {},
     "output_type": "execute_result"
    }
   ],
   "source": [
    "filename = \"./videos/lunar_lander.mp4\"\n",
    "\n",
    "utils.create_video(filename, env, q_network)\n",
    "utils.embed_mp4(filename)"
   ]
  },
  {
   "attachments": {},
   "cell_type": "markdown",
   "metadata": {},
   "source": [
    "<a name=\"11\"></a>\n",
    "## 11 - Congratulations!\n",
    "\n",
    "You have successfully used Deep Q-Learning with Experience Replay to train an agent to land a lunar lander safely on a landing pad on the surface of the moon. Congratulations!"
   ]
  },
  {
   "attachments": {},
   "cell_type": "markdown",
   "metadata": {},
   "source": [
    "<a name=\"12\"></a>\n",
    "## 12 - References\n",
    "\n",
    "If you would like to learn more about Deep Q-Learning, we recommend you check out the following papers.\n",
    "\n",
    "\n",
    "* Mnih, V., Kavukcuoglu, K., Silver, D. et al. Human-level control through deep reinforcement learning. Nature 518, 529–533 (2015).\n",
    "\n",
    "\n",
    "* Lillicrap, T. P., Hunt, J. J., Pritzel, A., et al. Continuous Control with Deep Reinforcement Learning. ICLR (2016).\n",
    "\n",
    "\n",
    "* Mnih, V., Kavukcuoglu, K., Silver, D. et al. Playing Atari with Deep Reinforcement Learning. arXiv e-prints.  arXiv:1312.5602 (2013)."
   ]
  },
  {
   "attachments": {},
   "cell_type": "markdown",
   "metadata": {},
   "source": [
    "<details>\n",
    "  <summary><font size=\"2\" color=\"darkgreen\"><b>Please click here if you want to experiment with any of the non-graded code.</b></font></summary>\n",
    "    <p><i><b>Important Note: Please only do this when you've already passed the assignment to avoid problems with the autograder.</b></i>\n",
    "    <ol>\n",
    "        <li> On the notebook’s menu, click “View” > “Cell Toolbar” > “Edit Metadata”</li>\n",
    "        <li> Hit the “Edit Metadata” button next to the code cell which you want to lock/unlock</li>\n",
    "        <li> Set the attribute value for “editable” to:\n",
    "            <ul>\n",
    "                <li> “true” if you want to unlock it </li>\n",
    "                <li> “false” if you want to lock it </li>\n",
    "            </ul>\n",
    "        </li>\n",
    "        <li> On the notebook’s menu, click “View” > “Cell Toolbar” > “None” </li>\n",
    "    </ol>\n",
    "    <p> Here's a short demo of how to do the steps above: \n",
    "        <br>\n",
    "        <img src=\"https://drive.google.com/uc?export=view&id=14Xy_Mb17CZVgzVAgq7NCjMVBvSae3xO1\" align=\"center\" alt=\"unlock_cells.gif\">\n",
    "</details>"
   ]
  }
 ],
 "metadata": {
  "accelerator": "GPU",
  "colab": {
   "collapsed_sections": [],
   "name": "TensorFlow - Lunar Lander.ipynb",
   "provenance": []
  },
  "kernelspec": {
   "display_name": "Python 3",
   "language": "python",
   "name": "python3"
  },
  "language_info": {
   "codemirror_mode": {
    "name": "ipython",
    "version": 3
   },
   "file_extension": ".py",
   "mimetype": "text/x-python",
   "name": "python",
   "nbconvert_exporter": "python",
   "pygments_lexer": "ipython3",
   "version": "3.7.6"
  }
 },
 "nbformat": 4,
 "nbformat_minor": 1
}
